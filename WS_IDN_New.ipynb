{
  "nbformat": 4,
  "nbformat_minor": 0,
  "metadata": {
    "colab": {
      "provenance": [],
      "authorship_tag": "ABX9TyPA4splE4yFQU09A2YlN9+q"
    },
    "kernelspec": {
      "name": "python3",
      "display_name": "Python 3"
    },
    "language_info": {
      "name": "python"
    }
  },
  "cells": [
    {
      "cell_type": "code",
      "source": [
        "# Import library\n",
        "import requests\n",
        "from bs4 import BeautifulSoup"
      ],
      "metadata": {
        "id": "7KajDgsYJCsm"
      },
      "execution_count": 1,
      "outputs": []
    },
    {
      "cell_type": "code",
      "source": [
        "# Function to scrape\n",
        "def scrape_something(url, element_selector, max_elements=5):\n",
        "    response = requests.get(url)\n",
        "\n",
        "    # If the request was unsuccessful\n",
        "    if response.status_code != 200:\n",
        "        print(f\"Failed to retrieve the webpage: {url}\")\n",
        "        return\n",
        "\n",
        "    # If the request was successful\n",
        "    soup = BeautifulSoup(response.text, 'html.parser')\n",
        "    elements = soup.select(element_selector)\n",
        "    recent_elements = elements[:max_elements]\n",
        "    element_texts = [element.get_text() for element in recent_elements]\n",
        "    return element_texts"
      ],
      "metadata": {
        "id": "D6Z84oQDy8sN"
      },
      "execution_count": 2,
      "outputs": []
    },
    {
      "cell_type": "code",
      "source": [
        "if __name__ == \"__main__\":\n",
        "\n",
        "    # Input URL\n",
        "    url = \"https://www.idntimes.com/beritaterkini\"\n",
        "\n",
        "    # Search for the title only\n",
        "    element_selector = \"h3.title-text\"\n",
        "\n",
        "    # Get the most recent title\n",
        "    recent_element_texts = scrape_something(url, element_selector, max_elements=5)\n",
        "    if recent_element_texts:\n",
        "        print(\"Topic from the most recent:\")\n",
        "        for i, text in enumerate(recent_element_texts, start=1):\n",
        "            print(f\"{i}. {text}\")\n",
        "    else:\n",
        "        print(\"No data found.\")"
      ],
      "metadata": {
        "colab": {
          "base_uri": "https://localhost:8080/"
        },
        "id": "o1BfNd31znKC",
        "outputId": "6b5f99de-6a30-44c5-9830-48284bb04e92"
      },
      "execution_count": 3,
      "outputs": [
        {
          "output_type": "stream",
          "name": "stdout",
          "text": [
            "Topic from the most recent:\n",
            "1. Wakil Ketua KPK Mengaku Tak Kenal Tahanan Kasus MA Dadan Tri\n",
            "2. Cara Print Halaman Tertentu di Microsoft Word, Gak Perlu Urut\n",
            "3. 5 Tips Menyusun Goals Tahunan dengan Baik, Ikuti yuk!\n",
            "4. Kata Luhut Soal Peluang Lalu Zohri Tampil di Asian Games 2022\n",
            "5. 4 Rekomendasi Kondisioner untuk Pria, Banyak Manfaatnya!\n"
          ]
        }
      ]
    }
  ]
}