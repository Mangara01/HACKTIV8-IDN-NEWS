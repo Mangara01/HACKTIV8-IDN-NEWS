{
  "nbformat": 4,
  "nbformat_minor": 0,
  "metadata": {
    "colab": {
      "provenance": [],
      "authorship_tag": "ABX9TyMfoeFR1IIl/rUH77zESHHu"
    },
    "kernelspec": {
      "name": "python3",
      "display_name": "Python 3"
    },
    "language_info": {
      "name": "python"
    }
  },
  "cells": [
    {
      "cell_type": "code",
      "source": [
        "# Import library\n",
        "import requests\n",
        "from bs4 import BeautifulSoup"
      ],
      "metadata": {
        "id": "7KajDgsYJCsm"
      },
      "execution_count": 10,
      "outputs": []
    },
    {
      "cell_type": "code",
      "source": [
        "# Function to scrape\n",
        "def scrape_something(url, element_selector, max_elements=5):\n",
        "    response = requests.get(url)\n",
        "\n",
        "    # If the request was unsuccessful\n",
        "    if response.status_code != 200:\n",
        "        print(f\"Failed to retrieve the webpage: {url}\")\n",
        "        return\n",
        "\n",
        "    # If the request was successful\n",
        "    soup = BeautifulSoup(response.text, 'html.parser')\n",
        "    elements = soup.select(element_selector)\n",
        "    recent_elements = elements[:max_elements]\n",
        "    element_texts = [element.get_text() for element in recent_elements]\n",
        "    return element_texts"
      ],
      "metadata": {
        "id": "D6Z84oQDy8sN"
      },
      "execution_count": 11,
      "outputs": []
    },
    {
      "cell_type": "code",
      "source": [
        "if __name__ == \"__main__\":\n",
        "\n",
        "    # Input URL\n",
        "    url = \"https://www.idntimes.com/beritaterkini\"\n",
        "\n",
        "    # Search for the title only\n",
        "    element_selector = \"h3.title-text\"\n",
        "\n",
        "    # Get the most recent title\n",
        "    recent_element_texts = scrape_something(url, element_selector, max_elements=5)\n",
        "    if recent_element_texts:\n",
        "        print(\"Text from the most recent occurrences of the element:\")\n",
        "        for i, text in enumerate(recent_element_texts, start=1):\n",
        "            print(f\"{i}. {text}\")\n",
        "    else:\n",
        "        print(\"No data found.\")"
      ],
      "metadata": {
        "colab": {
          "base_uri": "https://localhost:8080/"
        },
        "id": "o1BfNd31znKC",
        "outputId": "a50fc51d-dc60-4be6-d91c-1528f7380671"
      },
      "execution_count": 16,
      "outputs": [
        {
          "output_type": "stream",
          "name": "stdout",
          "text": [
            "Text from the most recent occurrences of the element:\n",
            "1. Siomay Masuk sebagai 10 Jajanan Terenak di Dunia 2023\n",
            "2. Polisi Teliti Sisa Makanan dari TKP Penemuan Mayat di Depok\n",
            "3. 7 Alasan Penting Memuji Masakan Istri, Jangan Kritik Melulu\n",
            "4. 3 Trik Mengatasi Blindspot, Jangan Mengandalkan Spion\n",
            "5. 7 Rekomendasi Lagu KPop yang Menjadi Favorit V BTS Sekarang Ini\n"
          ]
        }
      ]
    }
  ]
}